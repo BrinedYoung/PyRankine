{
 "cells": [
  {
   "cell_type": "markdown",
   "metadata": {},
   "source": [
    "## A Regenerative Cycle with Open Feedwater Heater\n",
    "\n",
    "  Michael J . Mora. Fundamentals of Engineering Thermodynamics(7th Edition). John Wiley & Sons, Inc. 2011\n",
    "\n",
    "  Chapter 8 : Vapour Power Systems Example\n",
    "\n",
    "   * EXAMPLE 8.5 ：A Regenerative Cycle with Open Feedwater Heater,Page 456\n",
    "\n",
    "Consider a regenerative vapor power cycle with one open feedwater heater.\n",
    "\n",
    "* Steam enters the turbine at 8.0 MPa, 480°C and expands to 0.7 MPa, \n",
    "\n",
    "* Some of the steam is extracted and diverted to the open feedwater heater operating at 0.7 MPa. \n",
    "\n",
    "* The remaining steam expands through the second-stage turbine to the condenser pressure of 0.008 MPa\n",
    "\n",
    "* Saturated liquid exits the open feedwater heater at 0.7 MPa. \n",
    "\n",
    "* The isentropic efficiency of each turbine  stage is 85% and each pump operates isentropically. \n",
    "\n",
    "If the net power output of the cycle is 100 MW, determine\n",
    "\n",
    "* (a) the thermal efficiency  %\n",
    "\n",
    "* (b) the mass flow rate of steam entering the first turbine stage, in kg/h.\n",
    "\n",
    "\n",
    "**SOLUTION**\n",
    "\n",
    "**Known:** A regenerative vapor power cycle operates with steam as the working fluid. Operating pressures and temperatures\n",
    "are specified; the isentropic efficiency of each turbine stage and the net power output are also given.\n",
    "\n",
    "**Find:** Determine the thermal efficiency and the mass flow rate into the turbine, in kg/h.\n",
    "\n",
    "![rankine85](./img/rankine85.jpg)\n",
    "\n",
    "Engineering Model:\n",
    "\n",
    "1. Each component in the cycle is analyzed as a steady-state control volume. The control volumes are shown in the accompanying sketch by dashed lines.\n",
    "\n",
    "\n",
    "2. All processes of the working fluid are internally reversible, except for the expansions through the two turbine stages and mixing in the open feedwater heater.\n",
    "\n",
    "\n",
    "3. The turbines, pumps, and feedwater heater operate adiabatically.\n",
    "\n",
    "\n",
    "4. Kinetic and potential energy effects are negligible.\n",
    "\n",
    "\n",
    "5. Saturated liquid exits the open feedwater heater, and saturated liquid exits the condenser.\n",
    "\n",
    "\n",
    "**Analysis:** \n",
    "\n",
    "\n",
    "Let us determine the specific enthalpies at the principal states of the cycle. "
   ]
  },
  {
   "cell_type": "code",
   "execution_count": 1,
   "metadata": {},
   "outputs": [
    {
     "name": "stdout",
     "output_type": "stream",
     "text": [
      "3349.5266902175404 6.661057438926857\n",
      "194.85028725291676 2833.6633994799113 6.863659692226502\n",
      "41.51005270424139 2250.102739075039 7.190938263751806\n",
      "41.51005270424139 173.8517685972624 0.592531583591964\n",
      "41.53089308789657 174.5495284067427\n",
      "164.95275256333002 697.1433607900045 1.992083136974042\n",
      "165.85457047406936 705.2157182424864\n"
     ]
    }
   ],
   "source": [
    "# determine the specific enthalpies at the principal states of the cycle. \n",
    "\n",
    "import seuif97 as if97\n",
    "\n",
    "# State 1 : steam entering the turbine at 8MPa, 480C.\n",
    "p1 = 8.0        \n",
    "t1 = 480.0      \n",
    "h1=if97.pt2h(p1,t1)\n",
    "s1=if97.pt2s(p1,t1)\n",
    "print(h1,s1)\n",
    "\n",
    "# State 2 : p2 =0.7MPa \n",
    "p2=0.7\n",
    "h2s=if97.ps2h(p2,s1)\n",
    "etat1=0.85\n",
    "h2=h1-etat1 * (h1-h2s)\n",
    "s2=if97.ph2s(p2,h2)\n",
    "t2=if97.ph2t(p2,h2)\n",
    "print(t2,h2,s2)\n",
    "\n",
    "# State 3 :p3 =0.008MPa  s3s =s2 \n",
    "p3=0.008\n",
    "s3s=s2\n",
    "h3s=if97.ps2h(p3,s3s)\n",
    "etat2=etat1\n",
    "h3=h2-etat2*(h2-h3s)\n",
    "t3=if97.ph2t(p3,h3)\n",
    "s3=if97.ph2s(p3,h3)\n",
    "print(t3,h3,s3)\n",
    "\n",
    "# State 4 :p4 =0.008MPa Saturated water \n",
    "p4=0.008\n",
    "t4=if97.px2t(p4,0)\n",
    "h4=if97.px2h(p4,0)\n",
    "s4=if97.px2s(p4,0)\n",
    "print(t4,h4,s4)\n",
    "\n",
    "# State 5 :s5=s4\n",
    "p5=0.7\n",
    "s5=s4\n",
    "t5=if97.ps2t(p5,s5)\n",
    "h5=if97.ps2h(p5,s5)\n",
    "print(t5,h5)\n",
    "\n",
    "# State 6 :p6=0.7 Saturated water \n",
    "p6=0.7\n",
    "t6=if97.px2t(p6,0)\n",
    "h6=if97.px2h(p6,0)\n",
    "s6=if97.px2s(p6,0)\n",
    "print(t6,h6,s6)\n",
    "\n",
    "# State 7 :s7=s6,p7=8.0Mpa\n",
    "p7=8.0\n",
    "s7=s6\n",
    "t7=if97.ps2t(p7,s7)\n",
    "h7=if97.ps2h(p7,s7)\n",
    "print(t7,h7)\n",
    "\n"
   ]
  },
  {
   "cell_type": "markdown",
   "metadata": {},
   "source": [
    "Applying mass and energy rate balances to a control volume enclosing the open heater, we find the fraction $y$ of the flow extracted at state 2 from\n",
    "\n",
    "$y=\\frac{h_6-h_5}{h_2-h_5}$"
   ]
  },
  {
   "cell_type": "code",
   "execution_count": 2,
   "metadata": {},
   "outputs": [
    {
     "name": "stdout",
     "output_type": "stream",
     "text": [
      "0.19652931680295163\n"
     ]
    }
   ],
   "source": [
    "# Applying mass and energy rate balances to a control volume enclosing the open heater, \n",
    "# we find the fraction y of the flow extracted at state 2 from\n",
    "y = (h6-h5)/(h2-h5)\n",
    "print(y)"
   ]
  },
  {
   "cell_type": "markdown",
   "metadata": {},
   "source": [
    "**SOLUTION**\n",
    "\n",
    "**(a)** On the basis of a unit of mass passing through the first-stage turbine, the total turbine work output is\n",
    "\n",
    "\n",
    "$\\frac{\\dot{W}_{t}}{\\dot{m}_1}=(h_1-h_2)+(1-y)(h_2-h_3)$\n",
    "\n",
    "The total pump work per unit of mass passing through the first-stage turbine is\n",
    "\n",
    "$\\frac{\\dot{W}_{p}}{\\dot{m}_1}=(h_7-h_6)+-(1-y)(h_5-h_4)$\n",
    "\n",
    "The heat added in the steam generator per unit of mass passing through the first-stage turbine is \n",
    "\n",
    "$\\frac{\\dot{Q}_{in}}{\\dot{m}_1}=h_1-h_7$\n",
    "\n",
    "efficiency is then\n",
    "\n",
    "$\\eta =\\frac{\\dot{W}_t/\\dot{m}_1-\\dot{W}_{p}/\\dot{m}_1}{\\dot{Q}_{in}/\\dot{m}_1}$\n"
   ]
  },
  {
   "cell_type": "code",
   "execution_count": 3,
   "metadata": {},
   "outputs": [
    {
     "name": "stdout",
     "output_type": "stream",
     "text": [
      " The thermal efficiency is 36.91%\n"
     ]
    }
   ],
   "source": [
    "# Part(a)\n",
    "wtdot = (h1-h2) + (1-y)*(h2-h3)    # the total turbine work output, units in KJ/Kg\n",
    "wpdot = (h7-h6) + (1-y)*(h5-h4)    # The total pump work per unit of mass passing through the first-stage turbine,in KJ/kg\n",
    "qindot = h1 - h7                   # in kj/kg\n",
    "eta = (wtdot-wpdot)/qindot\n",
    "\n",
    "# Results\n",
    "print(' The thermal efficiency is {:>.2f}%'.format(100*eta))\n"
   ]
  },
  {
   "cell_type": "markdown",
   "metadata": {},
   "source": [
    "**(b)** The mass flow rate of the steam entering the turbine, $m_1$, can be determined using the given value for the net power output, 100 MW. Since\n",
    "\n",
    "$W_{cycle}=W_{t}-W_{p}$\n",
    "\n",
    "$m_1=\\frac{W_{cycle}}{W_{1}/m_1-W_{p}/m_1}$"
   ]
  },
  {
   "cell_type": "code",
   "execution_count": 4,
   "metadata": {},
   "outputs": [
    {
     "name": "stdout",
     "output_type": "stream",
     "text": [
      " The mass flow rate of steam entering the first turbine stage, is 368813.09kg/h.\n"
     ]
    }
   ],
   "source": [
    "# Part(b)\n",
    "Wcycledot=100.0\n",
    "m1dot = (Wcycledot*3600*10**3)/(wtdot-wpdot)\n",
    "\n",
    "# Results\n",
    "print(' The mass flow rate of steam entering the first turbine stage, is {:>.2f}kg/h.'.format(m1dot))"
   ]
  },
  {
   "cell_type": "markdown",
   "metadata": {},
   "source": [
    "\n",
    "If the mass flow rate of steam entering the first-stage turbine were 150 kg/s \n",
    "\n",
    "* (a) what would be the net power, in MW\n",
    "\n",
    "* (b) the fraction of steam extracted, y? "
   ]
  },
  {
   "cell_type": "code",
   "execution_count": 5,
   "metadata": {},
   "outputs": [
    {
     "name": "stdout",
     "output_type": "stream",
     "text": [
      "The net power is 146.42MW\n"
     ]
    }
   ],
   "source": [
    "m1dot=150*3600\n",
    "Wcycledot=m1dot*(wtdot-wpdot)/(3600*10**3)\n",
    "print('The net power is {:>.2f}MW'.format(Wcycledot))"
   ]
  },
  {
   "cell_type": "code",
   "execution_count": null,
   "metadata": {},
   "outputs": [],
   "source": []
  }
 ],
 "metadata": {
  "kernelspec": {
   "display_name": "Python 3",
   "language": "python",
   "name": "python3"
  },
  "language_info": {
   "codemirror_mode": {
    "name": "ipython",
    "version": 3
   },
   "file_extension": ".py",
   "mimetype": "text/x-python",
   "name": "python",
   "nbconvert_exporter": "python",
   "pygments_lexer": "ipython3",
   "version": "3.7.2"
  },
  "toc": {
   "base_numbering": 1,
   "nav_menu": {},
   "number_sections": false,
   "sideBar": true,
   "skip_h1_title": false,
   "title_cell": "Table of Contents",
   "title_sidebar": "Contents",
   "toc_cell": false,
   "toc_position": {},
   "toc_section_display": true,
   "toc_window_display": false
  }
 },
 "nbformat": 4,
 "nbformat_minor": 1
}
