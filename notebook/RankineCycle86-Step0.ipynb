{
 "cells": [
  {
   "cell_type": "markdown",
   "metadata": {},
   "source": [
    "# A Reheat–Regenerative Cycle with Two Feedwater Heaters\n",
    "\n",
    "Michael J . Mora. Fundamentals of Engineering Thermodynamics (7th Edition).  John Wiley & Sons, Inc. 2011\n",
    "\n",
    "Chapter 8 vapor Power System: (Page 460-463)\n",
    "\n",
    "Example 8.6 : Considering a Reheat–Regenerative Cycle with Two Feedwater Heaters, a closed feedwater heater and an an\n",
    "open feedwater heater.\n",
    "\n",
    "* Steam enters the first turbine at 8.0 MPa, 480°C and expands to 0.7 MPa. \n",
    "\n",
    "* The steam is reheated to 440°C before entering the second turbine, where it expands to the condenser pressure of 0.008 MPa.\n",
    "\n",
    "* Steam is extracted from the first turbine at 2 MPa and fed to the closed feedwater heater. \n",
    "\n",
    "* Feedwater leaves the closed heater at 205°C and 8.0 MPa, and condensate exits as saturated liquid at 2 MPa. \n",
    "\n",
    "* The condensate is trapped into the open feedwater heater. \n",
    "\n",
    "* Steam extracted from the second turbine at 0.3 MPa is also fed into the open feedwater heater, which operates at 0.3 MPa. The stream exiting the open feedwater heater is saturated liquid at 0.3 MPa. \n",
    " \n",
    "* The net power output of the cycle is 100 MW. \n",
    "\n",
    "* There is no stray heat transfer from any component to its surroundings. \n",
    "\n",
    "* If the working fluid experiences no irreversibilities as it passes through the turbines, pumps, steam generator, reheater, and condenser, \n",
    "\n",
    "SOLUTION\n",
    "\n",
    "   * **Known:** A reheat–regenerative vapor power cycle operates with steam as the working fluid. Operating pressures\n",
    "and temperatures are specified, and the net power output is given.\n",
    "\n",
    "   * **Find:** Determine the thermal efficiency and the mass flow rate entering the first turbine, in kg/h.\n",
    "\n",
    "![rankine86](./img/rankine86.jpg)  \n",
    "\n",
    "**Engineering Model:**\n",
    "\n",
    "  1. Each component in the cycle is analyzed as a control volume at steady state. The control volumes are\n",
    "shown on the accompanying sketch by dashed lines.\n",
    "\n",
    "  2. There is no stray heat transfer from any component to its surroundings.\n",
    "\n",
    "  3. The working fluid undergoes internally reversible processes as it passes through the turbines, pumps,\n",
    "steam generator, reheater, and condenser.\n",
    "\n",
    "  4. The expansion through the trap is a throttling process.\n",
    "\n",
    "  5. Kinetic and potential energy effects are negligible.\n",
    "\n",
    "  6. Condensate exits the closed heater as a saturated liquid at 2 MPa. Feedwater exits the open heater as a saturated liquid at 0.3 MPa. Condensate exits the condenser as a saturated liquid.\n",
    "  \n",
    "**Analysis**\n",
    "\n",
    "Let us determine the specific enthalpies at the principal states of the cycle. \n"
   ]
  },
  {
   "cell_type": "code",
   "execution_count": 1,
   "metadata": {},
   "outputs": [
    {
     "name": "stdout",
     "output_type": "stream",
     "text": [
      "3349.5266902175404 6.661057438926857\n",
      "2964.050683560418 274.5205247261215\n",
      "2742.6287011144473 164.95275256333002\n",
      "3353.8055316540863 7.758809845023727\n",
      "3101.619288461554 315.68698354148023\n",
      "2428.7888945173413 41.51005270424139\n",
      "41.51005270424139 173.8517685972624 0.592531583591964 0.0010084729266462307\n",
      "174.14622426359287 41.51884414555008\n",
      "133.52535795710025 561.4554103021982 1.6717646729802556\n",
      "569.7038239103355 134.25233387175092\n",
      "877.4103307230511 2.3677163445155527\n",
      "212.38453533486518 908.621851211164 2.4470239085159298\n",
      "2.5254327498828832 133.52535795710025\n"
     ]
    }
   ],
   "source": [
    "# determine the specific enthalpies at the principal states of the cycle. \n",
    "\n",
    "import seuif97 as if97\n",
    "\n",
    "# State 1 is superheated vapor at 8MPa, 480C.\n",
    "p1=8\n",
    "t1=480\n",
    "h1 = if97.pt2h(p1,t1)\n",
    "s1 =if97.pt2s(p1,t1)   \n",
    "print(h1,s1)\n",
    "\n",
    "# State 2 is fixed by p2 =2.0MPa and the specific entropy s2, which is the same as that of state 1\n",
    "p2=2.0\n",
    "s2=s1\n",
    "h2 = if97.ps2h(p2,s2)        \n",
    "t2=if97.ps2t(p2,s2) \n",
    "print(h2,t2)\n",
    "\n",
    "# State 3  is fixed by p2 =0.7MPa and the specific entropy s2, which is the same as that of state 1\n",
    "p3=0.7\n",
    "s3=s1\n",
    "h3 = if97.ps2h(p3,s3)\n",
    "t3=if97.ps2t(p3,s3) \n",
    "print(h3,t3)   \n",
    "\n",
    "# State 4 is superheated vapor at 0.7 MPa, 440C.\n",
    "p4=0.7\n",
    "t4=440\n",
    "h4 = if97.pt2h(p4,t4)                                                                      # in kj/kg\n",
    "s4 =if97.pt2s(p4,t4)   \n",
    "print(h4,s4)\n",
    "\n",
    "# State 5 : p5 =0.3MPa and s5 = s4\n",
    "p5=0.3\n",
    "s5=s4\n",
    "h5 =if97.ps2h(p5,s5)  \n",
    "t5=if97.ps2t(p5,s5)\n",
    "print(h5,t5) \n",
    "\n",
    "# State 6: p6=0.008MPA, s6= s4\n",
    "p6=0.008\n",
    "s6=s4\n",
    "h6 =if97.ps2h(p6,s6)\n",
    "t6 =if97.ps2t(p6,s6) \n",
    "print(h6,t6) \n",
    "\n",
    "# State 7 : p7=0.008MP Saturated water at the condenser exit\n",
    "p7=0.008\n",
    "t7=if97.px2t(p7,0)\n",
    "h7=if97.px2h(p7,0)\n",
    "s7=if97.px2s(p7,0)\n",
    "v7=if97.px2v(p7,0)\n",
    "print(t7,h7,s7,v7) \n",
    "\n",
    "# State 8 : p8=0.3MP at the exit of the first pump \n",
    "p8=0.3\n",
    "s8=s7\n",
    "h8=if97.ps2h(p8,s8)\n",
    "t8=if97.ps2t(p8,s8)\n",
    "print(h8,t8)\n",
    "\n",
    "# state 9 : The liquid leaving the open feedwater heater at is saturated liquid at 0.3 MPa\n",
    "p9=0.3\n",
    "t9=if97.px2t(p9,0)\n",
    "h9=if97.px2h(p9,0) \n",
    "s9=if97.px2s(p9,0)\n",
    "print(t9,h9,s9) \n",
    "\n",
    "# State 10 p=8.0Mpa, at the exit of the second pump,\n",
    "p10=8.0\n",
    "s10=s9\n",
    "h10 =if97.ps2h(p10,s10)\n",
    "t10 =if97.ps2t(p10,s10) \n",
    "print(h10,t10) \n",
    "\n",
    "# State 11: the feedwater exiting the closed heater\n",
    "p11=8.0\n",
    "t11=205\n",
    "h11 = if97.pt2h(p11,t11)                                                                      # in kj/kg\n",
    "s11 =if97.pt2s(p11,t11)  \n",
    "print(h11,s11) \n",
    "\n",
    "# State 12: the condensate leaving the closed heater is saturated at 2 MPa.\n",
    "p12=2.0\n",
    "t12=if97.px2t(p12,0)\n",
    "h12=if97.px2h(p12,0)\n",
    "s12=if97.px2s(p12,0)\n",
    "print(t12,h12,s12)\n",
    "\n",
    "# State 13:  the fluid passing through the trap undergoes a throttling process\n",
    "p13=0.3\n",
    "h13=h12\n",
    "s13=if97.ph2s(p13,h13)\n",
    "t13=if97.ph2t(p13,h13)\n",
    "print(s13,t13)"
   ]
  },
  {
   "cell_type": "markdown",
   "metadata": {},
   "source": [
    "The schematic diagram of the cycle is labeled with the fractions of the total flow into the turbine that remain\n",
    "at various locations. The fractions of the total flow diverted to the closed heater and open heater, respectively,\n",
    "are $y^{'}=\\frac{\\dot{m}_2}{\\dot{m}_1}$ and $y^{\"}=\\frac{\\dot{m}_5}{\\dot{m}_1}$, where $\\dot{m}_1$ denotes the mass flow rate entering the first turbine.\n",
    "\n",
    "The fraction $y^{'}$  can be determined by application of mass and energy rate balances to a control volume enclosing the closed heater. The result is\n",
    "\n",
    "$y^{'}=\\frac{h_{11}-h_{10}}{h_2-h_{12}}$\n",
    "\n",
    "The fraction $y^{\"}$ can be determined by application of mass and energy rate balances to a control volume enclosing\n",
    "the open heater, resulting in\n",
    "\n",
    "$0=y^{\"}h_5+(1-y^{'}-y^{\"})h_8+ y^{'}h_{13}-h_9$\n",
    "\n",
    "Solving for $y^{\"}$\n",
    "\n",
    "$y^{\"}=\\frac{(1-y^{'})h_8+ y^{'}h_{13}-h_9}{h_8-h_5}$"
   ]
  },
  {
   "cell_type": "code",
   "execution_count": 2,
   "metadata": {},
   "outputs": [
    {
     "name": "stdout",
     "output_type": "stream",
     "text": [
      "0.14970428650697784 0.09474213093251493\n"
     ]
    }
   ],
   "source": [
    "ydash = (h11-h10)/(h2-h12)                          # the fraction of the total flow diverted to the closed heater\n",
    "ydashdash = ((1-ydash)*h8+ydash*h13-h9)/(h8-h5)     # the fraction of the total flow diverted to the open heater\n",
    "print(ydash,ydashdash)"
   ]
  },
  {
   "cell_type": "markdown",
   "metadata": {},
   "source": [
    "**SOLUTION**\n",
    "\n",
    "**(a)** The following work and heat transfer values are expressed on the basis of a unit mass entering the first turbine. \n",
    "\n",
    "The work developed by the first turbine per unit of mass entering is the sum\n",
    "\n",
    "$\\frac{\\dot{W}_{t1}}{\\dot{m}_1}=(h_1-h_2)+(1-y^{'})(h_2-h_3)$\n",
    "\n",
    "Similarly, for the second turbine\n",
    "\n",
    "$\\frac{\\dot{W}_{t2}}{\\dot{m}_1}=(1-y^{'})(h_4-h_5)+(1-y^{'}-y^{\"})(h_5-h_6)$\n",
    "\n",
    "For the first pump\n",
    "\n",
    "$\\frac{\\dot{W}_{p1}}{\\dot{m}_1}=(1-y^{'}-y^{\"})(h_8-h_7)$\n",
    "\n",
    "and for the second pump\n",
    "\n",
    "$\\frac{\\dot{W}_{p2}}{\\dot{m}_1}=(h_{10}-h_9)$\n",
    "\n",
    "The total heat added is the sum of the energy added by heat transfer during boiling/superheating and reheating. When expressed on the basis of a unit of mass entering the first turbine, this is\n",
    "\n",
    "$\\frac{\\dot{Q}_{in}}{\\dot{m}_1}=(h_1-h_{11})+(1-y^{'})(h_4-h_3)$\n",
    "\n",
    "With the foregoing values, the thermal efficiency is\n",
    "\n",
    "$\\eta =\\frac{\\dot{W}_{t1}/\\dot{m}_1+\\dot{W}_{t2}/\\dot{m}_1-\\dot{W}_{p1}/\\dot{m}_1-\\dot{W}_{p2}/\\dot{m}_1}{\\dot{Q}_{in}/\\dot{m}_1}$\n"
   ]
  },
  {
   "cell_type": "code",
   "execution_count": 3,
   "metadata": {},
   "outputs": [
    {
     "name": "stdout",
     "output_type": "stream",
     "text": [
      " The thermal efficiency is 43.05%\n"
     ]
    }
   ],
   "source": [
    "# Part(a)\n",
    "wt1dot = (h1-h2) + (1-ydash)*(h2-h3)                       # The work developed by the first turbine per unit of mass entering in kj/kg\n",
    "wt2dot = (1-ydash)*(h4-h5) + (1-ydash-ydashdash)*(h5-h6)   # The work developed by the second turbine per unit of mass in kj/kg\n",
    "\n",
    "wp1dot = (1-ydash-ydashdash)*(h8-h7)                # The work for the first pump per unit of mass in kj/kg\n",
    "wp2dot = h10-h9                                     # The work for the second pump per unit of mass in kj/kg\n",
    "\n",
    "qindot = (h1-h11) + (1-ydash)*(h4-h3)  # The total heat added expressed on the basis of a unit of mass entering the first   turbine\n",
    "eta = (wt1dot+wt2dot-wp1dot-wp2dot)/qindot  # thermal efficiency\n",
    "\n",
    "# Result\n",
    "print(' The thermal efficiency is {:>.2f}%'.format(100.0*eta))\n"
   ]
  },
  {
   "cell_type": "markdown",
   "metadata": {},
   "source": [
    "**(b)** The mass flow rate entering the first turbine can be determined using the given value of the net power output. Thus\n",
    "\n",
    "$m_1=\\frac{W_{cycle}}{W_{t1}/m_1+W_{t2}/m_1-W_{p1}/m_1-W_{p2}/m_1}$"
   ]
  },
  {
   "cell_type": "code",
   "execution_count": 4,
   "metadata": {},
   "outputs": [
    {
     "name": "stdout",
     "output_type": "stream",
     "text": [
      " The mass flow rate of the steam entering the first turbine is 279487.57kg/h\n"
     ]
    }
   ],
   "source": [
    "# Part(b)\n",
    "Wcycledot = 100.0                                                               # the net power output of the cycle in MW\n",
    "m1dot = (Wcycledot*3600*10**3)/(wt1dot+wt2dot-wp1dot-wp2dot)\n",
    "# Result\n",
    "print(' The mass flow rate of the steam entering the first turbine is {:>.2f}kg/h'.format(m1dot))"
   ]
  },
  {
   "cell_type": "code",
   "execution_count": null,
   "metadata": {},
   "outputs": [],
   "source": []
  }
 ],
 "metadata": {
  "kernelspec": {
   "display_name": "Python 3",
   "language": "python",
   "name": "python3"
  },
  "language_info": {
   "codemirror_mode": {
    "name": "ipython",
    "version": 3
   },
   "file_extension": ".py",
   "mimetype": "text/x-python",
   "name": "python",
   "nbconvert_exporter": "python",
   "pygments_lexer": "ipython3",
   "version": "3.7.2"
  },
  "toc": {
   "base_numbering": 1,
   "nav_menu": {},
   "number_sections": false,
   "sideBar": true,
   "skip_h1_title": false,
   "title_cell": "Table of Contents",
   "title_sidebar": "Contents",
   "toc_cell": false,
   "toc_position": {},
   "toc_section_display": true,
   "toc_window_display": false
  }
 },
 "nbformat": 4,
 "nbformat_minor": 1
}
