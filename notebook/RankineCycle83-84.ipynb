{
 "cells": [
  {
   "cell_type": "markdown",
   "metadata": {},
   "source": [
    "# Evaluating Performance of the Reheat Cycle 8.3,8.4\n",
    "\n",
    "Chapter 8 : Vapour Power Systems:Reheat Cycle\n",
    "\n",
    "* Example 8.3: Evaluating Performance of an Ideal Reheat Cycle(449-451)\n",
    "\n",
    "* Example 8.4: Evaluating Performance of a Reheat Cycle with Turbine Irreversibility Page451\n"
   ]
  },
  {
   "cell_type": "markdown",
   "metadata": {},
   "source": [
    "## 1 Example 8.3:  Evaluating Performance of an Ideal Reheat Cycle(449-451)\n",
    "\n",
    "Steam is the working fluid in an ideal Rankine cycle with `superheat` and `reheat`. \n",
    "\n",
    "Steam enters the first-stage turbine at 8.0 MPa, 4808C, and expands to 0.7 MPa. It is then reheated to 4408C before entering the second-stage turbine, where it expands to the condenser pressure of 0.008 MPa. The net power output is 100 MW. \n",
    "\n",
    "#### Determine\n",
    "\n",
    "* (a) the thermal efficiency of the cycle, \n",
    "\n",
    "* (b) the mass flow rate of steam, in $kg/h$, \n",
    "\n",
    "* (c) the rate of heat transfer $Q_{out}$  from the condensing steam as it passes through the condenser, in $MW$. Discuss the effects of reheat on the vapor power cycle.\n",
    "\n",
    "#### SOLUTION\n",
    "\n",
    "**Known**: An ideal reheat cycle operates with steam as the working fluid. Operating pressures and temperatures are specified, and the net power output is given.\n",
    "\n",
    "**Find:** Determine the thermal efficiency, the mass flow rate of the steam, in $kg/h$\n",
    "\n",
    "Engineering Model:\n",
    "1. Each component in the cycle is analyzed as a control volume at steady state. The control volumes are shown on the accompanying sketch by dashed lines.\n",
    "\n",
    "2. All processes of the working fluid are internally reversible.\n",
    "\n",
    "3. The turbine and pump operate adiabatically.\n",
    "\n",
    "4. Condensate exits the condenser as saturated liquid.\n",
    "\n",
    "5. Kinetic and potential energy effects are negligible.\n",
    "\n",
    "![Rankine83](./img/rankine83.png) \n",
    "\n",
    "\n",
    "\n",
    "### Analysis:\n",
    "\n",
    "To begin, we fix each of the principal states."
   ]
  },
  {
   "cell_type": "code",
   "execution_count": 1,
   "metadata": {},
   "outputs": [],
   "source": [
    "from seuif97 import *\n",
    "\n",
    "# Fix the states\n",
    "\n",
    "# State1 \n",
    "t1=480\n",
    "p1=8\n",
    "h1 =pt2h(p1,t1)\n",
    "s1=pt2s(p1,t1)\n",
    "\n",
    "# State 2\n",
    "p2=0.7\n",
    "s2=s1\n",
    "h2 =ps2h(p2,s2)\n",
    "t2=ps2t(p2,s2)\n",
    "\n",
    "# State 3\n",
    "t3=440\n",
    "p3=p2\n",
    "h3 =pt2h(p3,t3)\n",
    "s3 =pt2s(p3,t3)\n",
    "\n",
    "\n",
    "# State 4\n",
    "p4=0.008\n",
    "s4=s3\n",
    "h4 =ps2h(p4,s4)\n",
    "t4=ps2t(p4,s4)\n",
    "\n",
    "# State 5\n",
    "p5=0.008\n",
    "t5=px2t(p5,0)\n",
    "h5=px2h(p5,0)\n",
    "s5=px2s(p5,0)\n",
    "\n",
    "# State 6\n",
    "p6=8.0\n",
    "s6=s5\n",
    "h6 =ps2h(p6,s6)\n",
    "t6=ps2t(p6,s6)"
   ]
  },
  {
   "cell_type": "markdown",
   "metadata": {},
   "source": [
    "### Part (a)\n",
    "\n",
    "The net power developed by the cycle is \n",
    "\n",
    "$\\dot{W}_{cycle}=\\dot{W}_{t1}+\\dot{W}_{t2}-\\dot{W}_{p}$\n",
    "\n",
    "Mass and energy rate balances for the two turbine stages and the pump reduce to give, respectively\n",
    "\n",
    "Turbine 1: ${\\dot{W}_{t1}}/{\\dot{m}}=h_1-h_2$\n",
    "\n",
    "Turbine 2: ${\\dot{W}_{t2}}/{\\dot{m}}=h_3-h_4$\n",
    "\n",
    "Pump:  ${\\dot{W}_{p}}/{\\dot{m}}=h_6-h_5$\n",
    "\n",
    "where $\\dot{m}$ is the mass flow rate of the steam.\n",
    "\n",
    "The total rate of heat transfer to the working fluid as it passes through the boiler–superheater and reheater is\n",
    "\n",
    "$\\frac{\\dot{Q}_{in}}{\\dot{m}}=(h_1-h_6)+(h_3-h_2)$\n",
    "\n",
    "Using these expressions, the thermal efficiency is\n",
    "\n",
    "$\\eta=\\frac{(h_1-h_2)+(h_3-h_4)--(h_6-h_5)}{(h_1-h_6)+(h_3-h_2}$"
   ]
  },
  {
   "cell_type": "code",
   "execution_count": 2,
   "metadata": {},
   "outputs": [
    {
     "name": "stdout",
     "output_type": "stream",
     "text": [
      "The thermal efficiency is 40.33%\n"
     ]
    }
   ],
   "source": [
    "eta = ((h1-h2)+(h3-h4)-(h6-h5))/((h1-h6)+(h3-h2)) \n",
    "\n",
    "# Result\n",
    "print('The thermal efficiency is {:>.2f}%'.format(100*eta))\n"
   ]
  },
  {
   "cell_type": "markdown",
   "metadata": {},
   "source": [
    "**(b)** The mass flow rate of the steam can be obtained with the expression for net power given in part (a).\n",
    "\n",
    "$\\dot{m}=\\frac{\\dot{W}_{cycle}}{(h_1-h_2)+(h_3-h_4)-(h_6-h_5)}$\n"
   ]
  },
  {
   "cell_type": "code",
   "execution_count": 3,
   "metadata": {},
   "outputs": [
    {
     "name": "stdout",
     "output_type": "stream",
     "text": [
      "The mass flow rate of steam, is 236240.84kg/h.\n"
     ]
    }
   ],
   "source": [
    "# Part(b)\n",
    "Wcycledot = 100.0\n",
    "mdot = (Wcycledot*3600*10**3)/((h1-h2)+(h3-h4)-(h6-h5))\n",
    "print('The mass flow rate of steam, is {:>.2f}kg/h.'.format(mdot))"
   ]
  },
  {
   "cell_type": "markdown",
   "metadata": {},
   "source": [
    "**(c)** The rate of heat transfer from the condensing steam to the cooling water is\n",
    "\n",
    "$\\dot{Q}_{out}=\\dot{m}(h_4-h_5)$"
   ]
  },
  {
   "cell_type": "code",
   "execution_count": 4,
   "metadata": {},
   "outputs": [
    {
     "name": "stdout",
     "output_type": "stream",
     "text": [
      "The rate of heat transfer Qoutdot from the condensing steam as it passes through the condenser is 147.97kg/h\n"
     ]
    }
   ],
   "source": [
    "# Part(c)\n",
    "Qoutdot = (mdot*(h4-h5))/(3600*10**3)\n",
    "print('The rate of heat transfer Qoutdot from the condensing steam as it passes through the condenser is {:>.2f}kg/h'.format(Qoutdot))"
   ]
  },
  {
   "cell_type": "markdown",
   "metadata": {},
   "source": [
    "To see the effects of reheat, we compare the present values with their counterparts in Example 8.1. With superheat and reheat, the thermal efficiency is\n",
    "increased over that of the cycle of Example 8.1. For a specified net power output(100 MW), a larger thermal efficiency means that a smaller mass flow rate\n",
    "of steam is required. Moreover, with a greater thermal efficiency the rate of heat transfer to the cooling water is also less, resulting in a reduced demand\n",
    "for cooling water. With reheating, the steam quality at the turbine exhaust is substantially increased over the value for the cycle of Example 8.1"
   ]
  },
  {
   "cell_type": "markdown",
   "metadata": {},
   "source": [
    "## 2 Example 8.4: Evaluating Performance of a Reheat Cycle with Turbine Irreversibility Page451\n",
    "\n",
    "Reconsider the reheat cycle of Example 8.3, but include in the analysis that each turbine stage has the same isentropic efficiency. \n",
    "\n",
    "(a) If $\\eta_t=85$%, determine the thermal efficiency. \n",
    "\n",
    "(b) Plot the thermal efficiency versus turbine stage isentropic efficiency ranging from 85 to 100%.\n",
    "\n",
    "![rankine84](./img/rankine84a.png)\n",
    "\n",
    "### SOLUTION\n",
    "\n",
    "* **Known:** A reheat cycle operates with steam as the working fluid. Operating pressures and temperatures are specified. Each turbine stage has the same isentropic efficiency.\n",
    "\n",
    "* **Find:**\n",
    "  \n",
    "  * If $\\eta_t=85$%, determine the thermal efficiency.\n",
    "\n",
    "  * plot the thermal efficiency versus turbine stage isentropic efficiency ranging from 85 to 100%.\n",
    "  \n",
    "### Engineering Model:\n",
    "\n",
    "1. As in Example 8.3, each component is analyzed as a control volume at steady state.\n",
    "\n",
    "2. Except for the two turbine stages, all processes are internally reversible.\n",
    "\n",
    "3. The turbine and pump operate adiabatically.\n",
    "\n",
    "4. The condensate exits the condenser as saturated liquid.\n",
    "\n",
    "5. Kinetic and potential energy effects are negligible.  \n"
   ]
  },
  {
   "cell_type": "code",
   "execution_count": 5,
   "metadata": {},
   "outputs": [],
   "source": [
    "from seuif97 import *\n",
    "\n",
    "# Fix the states\n",
    "def FixStates(etat):\n",
    "\n",
    "    # State1 \n",
    "    t1=480\n",
    "    p1=8\n",
    "    h1 =pt2h(p1,t1)\n",
    "    s1=pt2s(p1,t1)\n",
    "\n",
    "    # State 2\n",
    "    p2=0.7\n",
    "    s2s=s1\n",
    "    h2s =ps2h(p2,s2s)\n",
    "    etat1=etat\n",
    "    h2=h1-etat1*(h1-h2s)\n",
    "    s2=ph2s(p2,h2)\n",
    "    t2=ph2t(p2,h2)\n",
    "\n",
    "    # State 3\n",
    "    t3=440\n",
    "    p3=p2\n",
    "    h3 =pt2h(p3,t3)\n",
    "    s3 =pt2s(p3,t3)\n",
    "\n",
    "\n",
    "    # State 4\n",
    "    p4=0.008\n",
    "    s4s=s3\n",
    "    h4s =ps2h(p4,s4s)\n",
    "    etat2=etat1\n",
    "    h4=h3-etat2*(h3-h4s)\n",
    "    s4 =ph2s(p4,h4)\n",
    "    s4 =ph2t(p4,h4)\n",
    "\n",
    "    # State 5\n",
    "    p5=0.008\n",
    "    t5=px2t(p5,0)\n",
    "    h5=px2h(p5,0)\n",
    "    s5=px2s(p5,0)\n",
    "\n",
    "    # State 6\n",
    "    p6=8.0\n",
    "    s6=s5\n",
    "    h6 =ps2h(p6,s6)\n",
    "    t6=ps2t(p6,s6)\n",
    "    return h1,h2,h3,h4,h5,h6"
   ]
  },
  {
   "cell_type": "markdown",
   "metadata": {},
   "source": [
    "The thermal efficiency is then"
   ]
  },
  {
   "cell_type": "code",
   "execution_count": 6,
   "metadata": {},
   "outputs": [
    {
     "name": "stdout",
     "output_type": "stream",
     "text": [
      "The thermal efficiency is 35.09%\n"
     ]
    }
   ],
   "source": [
    "etat=0.85\n",
    "h1,h2,h3,h4,h5,h6= FixStates(etat)\n",
    "eta = ((h1-h2)+(h3-h4)-(h6-h5))/((h1-h6)+(h3-h2)) \n",
    "\n",
    "# Result\n",
    "print('The thermal efficiency is {:>.2f}%'.format(100*eta))"
   ]
  },
  {
   "cell_type": "markdown",
   "metadata": {},
   "source": [
    "###  Turbine isentropic efficiency  &  cycle thermal efficiency\n",
    "\n",
    "#### Sweep eta from `0.85` to `1.0` in steps of `0.01`,then, using the  matplotlib.pyplot"
   ]
  },
  {
   "cell_type": "code",
   "execution_count": 7,
   "metadata": {},
   "outputs": [
    {
     "data": {
      "image/png": "[encoded data removed]",
      "text/plain": [
       "<Figure size 432x288 with 1 Axes>"
      ]
     },
     "metadata": {
      "needs_background": "light"
     },
     "output_type": "display_data"
    }
   ],
   "source": [
    "%matplotlib inline\n",
    "# Part (b)\n",
    "from numpy import linspace\n",
    "import matplotlib.pyplot as plt\n",
    "\n",
    "etas  = []\n",
    "etats = linspace(0.85,1,50)\n",
    "for i in range(0,50):\n",
    "    h1,h2,h3,h4,h5,h6= FixStates(etats[i])\n",
    "    eta = ((h1-h2)+(h3-h4)-(h6-h5))/((h1-h6)+(h3-h2)) \n",
    "    etas.append(eta)\n",
    "    \n",
    "plt.plot(etats,etas)\n",
    "plt.xlabel('isentropic turbine efficiency')\n",
    "plt.ylabel('cycle thermal efficiency')\n",
    "plt.show()"
   ]
  },
  {
   "cell_type": "markdown",
   "metadata": {},
   "source": [
    "From the Fig, we see that the cycle thermal efficiency increases from `0.351` to` 0.403` as turbine stage isentropic efficiency increases from `0.85` to `1.00`\n",
    "\n",
    "`Turbine isentropic efficiency` is seen to have a significant effect on `cycle thermal efficiency.`"
   ]
  }
 ],
 "metadata": {
  "kernelspec": {
   "display_name": "Python 3",
   "language": "python",
   "name": "python3"
  },
  "language_info": {
   "codemirror_mode": {
    "name": "ipython",
    "version": 3
   },
   "file_extension": ".py",
   "mimetype": "text/x-python",
   "name": "python",
   "nbconvert_exporter": "python",
   "pygments_lexer": "ipython3",
   "version": "3.7.2"
  },
  "toc": {
   "base_numbering": 1,
   "nav_menu": {},
   "number_sections": false,
   "sideBar": true,
   "skip_h1_title": false,
   "title_cell": "Table of Contents",
   "title_sidebar": "Contents",
   "toc_cell": false,
   "toc_position": {},
   "toc_section_display": true,
   "toc_window_display": false
  },
  "widgets": {
   "state": {},
   "version": "1.1.2"
  }
 },
 "nbformat": 4,
 "nbformat_minor": 1
}
